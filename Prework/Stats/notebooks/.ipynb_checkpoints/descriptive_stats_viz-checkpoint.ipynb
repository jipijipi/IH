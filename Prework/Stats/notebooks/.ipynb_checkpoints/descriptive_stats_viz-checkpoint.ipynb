{
 "cells": [
  {
   "cell_type": "markdown",
   "id": "53378ff7-9652-4d94-bf62-4b07a96637ee",
   "metadata": {},
   "source": [
    "# Descriptive Statistics"
   ]
  },
  {
   "cell_type": "markdown",
   "id": "2b7a802f-6965-4314-b37c-6e00197088d1",
   "metadata": {},
   "source": [
    "In this hands-on lesson, we will explore descriptive statistics using the Titanic dataset, a popular dataset often used for introductory data analysis.\n",
    "\n",
    "In this following lesson, we will explore graphical techniques."
   ]
  },
  {
   "cell_type": "markdown",
   "id": "88f8dd07-9204-4614-bca7-26102b75468d",
   "metadata": {},
   "source": [
    "## Using Seaborn library"
   ]
  },
  {
   "cell_type": "markdown",
   "id": "1619cafd-fc63-45a1-9633-64665734ff0c",
   "metadata": {},
   "source": [
    "We will use Seaborn library. Seaborn is a Python data visualization library that provides a high-level interface for creating visually appealing statistical graphics. We use Seaborn because it offers easy-to-use functions and built-in styles that enhance the presentation of data visualizations.\n",
    "\n",
    "To install Seaborn, you can run `!pip install seaborn` in a code cell. Once installed, you can import Seaborn using `import seaborn as sns`."
   ]
  },
  {
   "cell_type": "code",
   "execution_count": 2,
   "id": "109b6cd0-bf12-4754-9de4-a08710edd3b8",
   "metadata": {},
   "outputs": [
    {
     "name": "stdout",
     "output_type": "stream",
     "text": [
      "Requirement already satisfied: seaborn in /opt/anaconda3/lib/python3.12/site-packages (0.13.2)\n",
      "Requirement already satisfied: numpy!=1.24.0,>=1.20 in /opt/anaconda3/lib/python3.12/site-packages (from seaborn) (1.26.4)\n",
      "Requirement already satisfied: pandas>=1.2 in /opt/anaconda3/lib/python3.12/site-packages (from seaborn) (2.2.2)\n",
      "Requirement already satisfied: matplotlib!=3.6.1,>=3.4 in /opt/anaconda3/lib/python3.12/site-packages (from seaborn) (3.8.4)\n",
      "Requirement already satisfied: contourpy>=1.0.1 in /opt/anaconda3/lib/python3.12/site-packages (from matplotlib!=3.6.1,>=3.4->seaborn) (1.2.0)\n",
      "Requirement already satisfied: cycler>=0.10 in /opt/anaconda3/lib/python3.12/site-packages (from matplotlib!=3.6.1,>=3.4->seaborn) (0.11.0)\n",
      "Requirement already satisfied: fonttools>=4.22.0 in /opt/anaconda3/lib/python3.12/site-packages (from matplotlib!=3.6.1,>=3.4->seaborn) (4.51.0)\n",
      "Requirement already satisfied: kiwisolver>=1.3.1 in /opt/anaconda3/lib/python3.12/site-packages (from matplotlib!=3.6.1,>=3.4->seaborn) (1.4.4)\n",
      "Requirement already satisfied: packaging>=20.0 in /opt/anaconda3/lib/python3.12/site-packages (from matplotlib!=3.6.1,>=3.4->seaborn) (23.2)\n",
      "Requirement already satisfied: pillow>=8 in /opt/anaconda3/lib/python3.12/site-packages (from matplotlib!=3.6.1,>=3.4->seaborn) (10.3.0)\n",
      "Requirement already satisfied: pyparsing>=2.3.1 in /opt/anaconda3/lib/python3.12/site-packages (from matplotlib!=3.6.1,>=3.4->seaborn) (3.0.9)\n",
      "Requirement already satisfied: python-dateutil>=2.7 in /opt/anaconda3/lib/python3.12/site-packages (from matplotlib!=3.6.1,>=3.4->seaborn) (2.9.0.post0)\n",
      "Requirement already satisfied: pytz>=2020.1 in /opt/anaconda3/lib/python3.12/site-packages (from pandas>=1.2->seaborn) (2024.1)\n",
      "Requirement already satisfied: tzdata>=2022.7 in /opt/anaconda3/lib/python3.12/site-packages (from pandas>=1.2->seaborn) (2023.3)\n",
      "Requirement already satisfied: six>=1.5 in /opt/anaconda3/lib/python3.12/site-packages (from python-dateutil>=2.7->matplotlib!=3.6.1,>=3.4->seaborn) (1.16.0)\n"
     ]
    }
   ],
   "source": [
    "!pip install seaborn"
   ]
  },
  {
   "cell_type": "code",
   "execution_count": 4,
   "id": "36c904a9-bc1e-4cad-9c45-bac17e73400d",
   "metadata": {},
   "outputs": [],
   "source": [
    "import seaborn as sns"
   ]
  },
  {
   "cell_type": "markdown",
   "id": "fe28f514-d663-4903-ad09-c594ad182878",
   "metadata": {},
   "source": [
    "If you are still getting a \"ModuleNotFoundError\" after installing Seaborn, there might be an issue with your Python environment. \n",
    "- Check if Seaborn is installed: Run `!pip show seaborn` in a code cell to see if Seaborn is listed as an installed package. If it's not listed, it means the installation was not successful. In that case, try reinstalling Seaborn using `!pip install seaborn`.\n",
    "- Verify the Python environment: Ensure that you are running the Jupyter Notebook or Python script in the correct Python environment where Seaborn is installed. If you are using virtual environments, make sure you have activated the correct environment."
   ]
  },
  {
   "cell_type": "markdown",
   "id": "08c97ab6-400a-4887-bc5e-fb97da31ea10",
   "metadata": {},
   "source": [
    "## Quick look at the dataset"
   ]
  },
  {
   "cell_type": "code",
   "execution_count": 6,
   "id": "84575c7d-4023-4dd7-8a01-1d2088bb8c97",
   "metadata": {},
   "outputs": [],
   "source": [
    "# Let's start by importing pandas and reading the titanic dataset\n",
    "import pandas as pd\n",
    "\n",
    "# We can read from an online URL\n",
    "titanic_data = pd.read_csv('https://raw.githubusercontent.com/data-bootcamp-v4/prework_data/main/titanic.csv')"
   ]
  },
  {
   "cell_type": "markdown",
   "id": "9d61baed-bbae-4ff1-a420-2c9d3f74127e",
   "metadata": {},
   "source": [
    "Here is a description of the titanic dataset variables to get a better understanding of the data:\n",
    "- PassengerId: an Id to identify each passenger.\n",
    "- Survived: Whether the passenger survived (0 = No, 1 = Yes)\n",
    "- Pclass: Passenger class (1 = 1st class, 2 = 2nd class, 3 = 3rd class)\n",
    "- Name: Passenger's name\n",
    "- Sex: Passenger's gender (Male or Female)\n",
    "- Age: Passenger's age in years\n",
    "- SibSp: Number of siblings/spouses aboard the Titanic\n",
    "- Parch: Number of parents/children aboard the Titanic\n",
    "- Ticket: Ticket number\n",
    "- Fare: Passenger fare\n",
    "- Cabin: Cabin number\n",
    "- Embarked: Port of embarkation (C = Cherbourg, Q = Queenstown, S = Southampton)"
   ]
  },
  {
   "cell_type": "code",
   "execution_count": 8,
   "id": "608042bf-0c63-4906-9aa3-63ba713dab80",
   "metadata": {},
   "outputs": [
    {
     "data": {
      "text/html": [
       "<div>\n",
       "<style scoped>\n",
       "    .dataframe tbody tr th:only-of-type {\n",
       "        vertical-align: middle;\n",
       "    }\n",
       "\n",
       "    .dataframe tbody tr th {\n",
       "        vertical-align: top;\n",
       "    }\n",
       "\n",
       "    .dataframe thead th {\n",
       "        text-align: right;\n",
       "    }\n",
       "</style>\n",
       "<table border=\"1\" class=\"dataframe\">\n",
       "  <thead>\n",
       "    <tr style=\"text-align: right;\">\n",
       "      <th></th>\n",
       "      <th>PassengerId</th>\n",
       "      <th>Survived</th>\n",
       "      <th>Pclass</th>\n",
       "      <th>Name</th>\n",
       "      <th>Sex</th>\n",
       "      <th>Age</th>\n",
       "      <th>SibSp</th>\n",
       "      <th>Parch</th>\n",
       "      <th>Ticket</th>\n",
       "      <th>Fare</th>\n",
       "      <th>Cabin</th>\n",
       "      <th>Embarked</th>\n",
       "    </tr>\n",
       "  </thead>\n",
       "  <tbody>\n",
       "    <tr>\n",
       "      <th>0</th>\n",
       "      <td>1</td>\n",
       "      <td>0</td>\n",
       "      <td>3</td>\n",
       "      <td>Braund, Mr. Owen Harris</td>\n",
       "      <td>male</td>\n",
       "      <td>22.0</td>\n",
       "      <td>1</td>\n",
       "      <td>0</td>\n",
       "      <td>A/5 21171</td>\n",
       "      <td>7.2500</td>\n",
       "      <td>NaN</td>\n",
       "      <td>S</td>\n",
       "    </tr>\n",
       "    <tr>\n",
       "      <th>1</th>\n",
       "      <td>2</td>\n",
       "      <td>1</td>\n",
       "      <td>1</td>\n",
       "      <td>Cumings, Mrs. John Bradley (Florence Briggs Th...</td>\n",
       "      <td>female</td>\n",
       "      <td>38.0</td>\n",
       "      <td>1</td>\n",
       "      <td>0</td>\n",
       "      <td>PC 17599</td>\n",
       "      <td>71.2833</td>\n",
       "      <td>C85</td>\n",
       "      <td>C</td>\n",
       "    </tr>\n",
       "    <tr>\n",
       "      <th>2</th>\n",
       "      <td>3</td>\n",
       "      <td>1</td>\n",
       "      <td>3</td>\n",
       "      <td>Heikkinen, Miss. Laina</td>\n",
       "      <td>female</td>\n",
       "      <td>26.0</td>\n",
       "      <td>0</td>\n",
       "      <td>0</td>\n",
       "      <td>STON/O2. 3101282</td>\n",
       "      <td>7.9250</td>\n",
       "      <td>NaN</td>\n",
       "      <td>S</td>\n",
       "    </tr>\n",
       "    <tr>\n",
       "      <th>3</th>\n",
       "      <td>4</td>\n",
       "      <td>1</td>\n",
       "      <td>1</td>\n",
       "      <td>Futrelle, Mrs. Jacques Heath (Lily May Peel)</td>\n",
       "      <td>female</td>\n",
       "      <td>35.0</td>\n",
       "      <td>1</td>\n",
       "      <td>0</td>\n",
       "      <td>113803</td>\n",
       "      <td>53.1000</td>\n",
       "      <td>C123</td>\n",
       "      <td>S</td>\n",
       "    </tr>\n",
       "    <tr>\n",
       "      <th>4</th>\n",
       "      <td>5</td>\n",
       "      <td>0</td>\n",
       "      <td>3</td>\n",
       "      <td>Allen, Mr. William Henry</td>\n",
       "      <td>male</td>\n",
       "      <td>35.0</td>\n",
       "      <td>0</td>\n",
       "      <td>0</td>\n",
       "      <td>373450</td>\n",
       "      <td>8.0500</td>\n",
       "      <td>NaN</td>\n",
       "      <td>S</td>\n",
       "    </tr>\n",
       "  </tbody>\n",
       "</table>\n",
       "</div>"
      ],
      "text/plain": [
       "   PassengerId  Survived  Pclass  \\\n",
       "0            1         0       3   \n",
       "1            2         1       1   \n",
       "2            3         1       3   \n",
       "3            4         1       1   \n",
       "4            5         0       3   \n",
       "\n",
       "                                                Name     Sex   Age  SibSp  \\\n",
       "0                            Braund, Mr. Owen Harris    male  22.0      1   \n",
       "1  Cumings, Mrs. John Bradley (Florence Briggs Th...  female  38.0      1   \n",
       "2                             Heikkinen, Miss. Laina  female  26.0      0   \n",
       "3       Futrelle, Mrs. Jacques Heath (Lily May Peel)  female  35.0      1   \n",
       "4                           Allen, Mr. William Henry    male  35.0      0   \n",
       "\n",
       "   Parch            Ticket     Fare Cabin Embarked  \n",
       "0      0         A/5 21171   7.2500   NaN        S  \n",
       "1      0          PC 17599  71.2833   C85        C  \n",
       "2      0  STON/O2. 3101282   7.9250   NaN        S  \n",
       "3      0            113803  53.1000  C123        S  \n",
       "4      0            373450   8.0500   NaN        S  "
      ]
     },
     "execution_count": 8,
     "metadata": {},
     "output_type": "execute_result"
    }
   ],
   "source": [
    "# Let's start by gaining a general understanding of the dataset.\n",
    "titanic_data.head()"
   ]
  },
  {
   "cell_type": "markdown",
   "id": "97653963-22f9-48a3-b837-a3163295e78a",
   "metadata": {},
   "source": [
    "As we saw in the previous lesson,  we consider the following as numerical or quantitative variables:\n",
    "    \n",
    "- Age: continuous (it can also be considered discrete)\n",
    "- SibSp: discrete\n",
    "- Parch: discrete\n",
    "- Fare: continuous"
   ]
  },
  {
   "cell_type": "markdown",
   "id": "ae62faa6-655d-4085-ab41-8d83a435cf56",
   "metadata": {},
   "source": [
    "The following variables are considered categorical variables:"
   ]
  },
  {
   "cell_type": "markdown",
   "id": "683f76c3-a0db-41e6-95c6-788aca4e6b8e",
   "metadata": {},
   "source": [
    " \n",
    "- Survived\n",
    "- Pclass\n",
    "- Sex\n",
    "- Embarked"
   ]
  },
  {
   "cell_type": "markdown",
   "id": "8c5dd186-452d-4d46-bfdf-715ca1eea625",
   "metadata": {},
   "source": [
    "'Sex', 'Embarked', and 'Survived' are considered nominal variables, and 'Pclass' is considered an ordinal variable. While we won't delve into the importance of this distinction at the moment, we will explore it further during the bootcamp to understand its significance in data analysis."
   ]
  },
  {
   "cell_type": "markdown",
   "id": "4605ba8e-a90f-4e76-ac81-071496161535",
   "metadata": {},
   "source": [
    "For now, we will ignore PassengerId, Name, Ticket, and Cabin."
   ]
  },
  {
   "cell_type": "markdown",
   "id": "6a753409-e3fd-446f-b779-149e03471d63",
   "metadata": {},
   "source": [
    "## Descriptive statistics for numerical variables"
   ]
  },
  {
   "cell_type": "markdown",
   "id": "116be475-37ba-493e-a5c9-dbab6bf5f332",
   "metadata": {},
   "source": [
    "### Graphical Univariate Techniques\n",
    "\n",
    "- **Histograms**: A histogram is a graphical representation of the distribution of numerical data. It consists of a series of bars, where each bar represents a range of values and the height of the bar represents the frequency or count of data points falling within that range. Histograms are commonly used to visualize the overall shape, central tendency, and dispersion of numerical data. In other words, **it divides the data into bins or intervals** and displaying the **frequency** or proportion of values in each bin. \n",
    "\t- Mostly used for: numerical/quantitative - continuous variables.\n",
    "- **Bar Plots**: A bar plot is a graphical representation that uses rectangular bars to show the values of different categories. Each bar represents a category, and the height of the bar corresponds to the value or frequency of that category. Bar plots are typically used to compare and visualize categorical data, allowing us to easily identify patterns or differences between the categories. In other words, bar plots display the **frequency or proportion of each category using vertical bars**.\n",
    "\t- Mostly used for: numerical/quantitative - discrete variables and categorical/qualitative data.\n"
   ]
  },
  {
   "cell_type": "markdown",
   "id": "5f1042ca-31d6-4f7e-8449-826978776d71",
   "metadata": {},
   "source": [
    "#### Histograms - continuous variables"
   ]
  },
  {
   "cell_type": "markdown",
   "id": "b58900a3-a14c-4e03-bfb9-427499aa780f",
   "metadata": {},
   "source": [
    "To visualize continuous variables, let's create a **histogram** with Seaborn. Assuming you have a DataFrame named 'df' with a column named 'column_name' containing the data, do:\n",
    "```python\n",
    "sns.histplot(data=df, x='column_name')\n",
    "```"
   ]
  },
  {
   "cell_type": "code",
   "execution_count": 10,
   "id": "2349023f-aa5d-4980-89b9-148b518967a6",
   "metadata": {},
   "outputs": [
    {
     "data": {
      "text/plain": [
       "<Axes: xlabel='Fare', ylabel='Count'>"
      ]
     },
     "execution_count": 10,
     "metadata": {},
     "output_type": "execute_result"
    },
    {
     "data": {
      "image/png": "[encoded data removed]",
      "text/plain": [
       "<Figure size 640x480 with 1 Axes>"
      ]
     },
     "metadata": {},
     "output_type": "display_data"
    }
   ],
   "source": [
    "sns.histplot(x='Fare', data=titanic_data)"
   ]
  },
  {
   "cell_type": "code",
   "execution_count": 12,
   "id": "2aba6277-e8d5-4fbb-ab5e-7cfe30fa72e5",
   "metadata": {},
   "outputs": [
    {
     "data": {
      "text/plain": [
       "<Axes: xlabel='Age', ylabel='Count'>"
      ]
     },
     "execution_count": 12,
     "metadata": {},
     "output_type": "execute_result"
    },
    {
     "data": {
      "image/png": "[encoded data removed]",
      "text/plain": [
       "<Figure size 640x480 with 1 Axes>"
      ]
     },
     "metadata": {},
     "output_type": "display_data"
    }
   ],
   "source": [
    "sns.histplot(x='Age', data=titanic_data)"
   ]
  },
  {
   "cell_type": "markdown",
   "id": "43ee832c-41f4-4704-a1d8-70d1a4f26671",
   "metadata": {},
   "source": [
    "The histograms give us an idea of the distribution of age and fare values. We can observe the frequency or count of passengers falling within specific age ranges or fare ranges."
   ]
  },
  {
   "cell_type": "markdown",
   "id": "aa25c2e7-2f3b-41a1-8dc8-7a6e5419746e",
   "metadata": {},
   "source": [
    "From the histograms of the numerical variables in the Titanic dataset, we can draw the following insights:\n",
    "\n",
    "- Age: The histogram of age shows the distribution of passengers' ages. It reveals that the majority of passengers were in the age range of approximately 20 to 40 years. There are also a noticeable number of passengers in the age range of infants.\n",
    "\n",
    "- Fare: The histogram of fare displays the distribution of ticket fares paid by passengers. It shows that the majority of passengers paid relatively lower fares, with a peak around the lower fare values. However, there are a few passengers who paid significantly higher fares, contributing to the long tail in the distribution."
   ]
  },
  {
   "cell_type": "markdown",
   "id": "aaeea56c-72ad-4425-8ad7-d6dd12237388",
   "metadata": {},
   "source": [
    "#### Bar plots - discrete variables"
   ]
  },
  {
   "cell_type": "markdown",
   "id": "9a0cb993-9571-4990-8473-b309127d2e7d",
   "metadata": {},
   "source": [
    "To visualize discrete variables, let's create a **bar plot** with Seaborn. Assuming you have a DataFrame named 'df' with a column named 'column_name' containing the data, do:\n",
    "```python\n",
    "sns.countplot(data=df, x='column_name')\n",
    "```"
   ]
  },
  {
   "cell_type": "code",
   "execution_count": 14,
   "id": "0f832d6f-c52c-4d73-b7a3-b92ed0bc10c5",
   "metadata": {},
   "outputs": [
    {
     "data": {
      "text/plain": [
       "<Axes: xlabel='Parch', ylabel='count'>"
      ]
     },
     "execution_count": 14,
     "metadata": {},
     "output_type": "execute_result"
    },
    {
     "data": {
      "image/png": "[encoded data removed]",
      "text/plain": [
       "<Figure size 640x480 with 1 Axes>"
      ]
     },
     "metadata": {},
     "output_type": "display_data"
    }
   ],
   "source": [
    "sns.countplot(x='Parch', data=titanic_data)"
   ]
  },
  {
   "cell_type": "code",
   "execution_count": 16,
   "id": "0913dc8f-e26a-4e80-9424-f9edc0188bb3",
   "metadata": {},
   "outputs": [
    {
     "data": {
      "text/plain": [
       "<Axes: xlabel='SibSp', ylabel='count'>"
      ]
     },
     "execution_count": 16,
     "metadata": {},
     "output_type": "execute_result"
    },
    {
     "data": {
      "image/png": "[encoded data removed]",
      "text/plain": [
       "<Figure size 640x480 with 1 Axes>"
      ]
     },
     "metadata": {},
     "output_type": "display_data"
    }
   ],
   "source": [
    "sns.countplot(x='SibSp', data=titanic_data)"
   ]
  },
  {
   "cell_type": "markdown",
   "id": "f5ab06a8-b841-4e6b-b86c-0ef80e9f0987",
   "metadata": {},
   "source": [
    "The bar plots display the count of passengers for each category of the discrete variables."
   ]
  },
  {
   "cell_type": "markdown",
   "id": "64c0613b-e612-4127-9388-6ef4360954e7",
   "metadata": {},
   "source": [
    "From the bar plots of the variables SibSp (number of siblings/spouses aboard the Titanic) and Parch (number of parents/children aboard the Titanic) in the Titanic dataset, we can draw the following insights:\n",
    "\n",
    "- SibSp: The bar plot of SibSp shows the distribution of the number of siblings/spouses for each passenger. It reveals that the majority of passengers had no siblings or spouses on board (represented by the bar labeled \"0\"). There is a gradual decrease in the frequency as the number of siblings/spouses increases. This suggests that most passengers traveled alone or with a small number of siblings/spouses.\n",
    "\n",
    "- Parch: The bar plot of Parch displays the distribution of the number of parents/children for each passenger. It indicates that the majority of passengers had no parents or children on board (represented by the bar labeled \"0\"). Similar to SibSp, there is a decline in the frequency as the number of parents/children increases. This implies that most passengers traveled without their parents or children or with a small number of them.\n",
    "\n",
    "These insights provide an understanding of the family composition and dynamics among the passengers. It indicates that a significant portion of the passengers traveled alone or with only a few family members, while a smaller proportion traveled with larger families."
   ]
  },
  {
   "cell_type": "markdown",
   "id": "55eb4778-6207-4b9d-8842-132374414f1f",
   "metadata": {},
   "source": [
    "## Descriptive statistics for categorical variables"
   ]
  },
  {
   "cell_type": "markdown",
   "id": "c519a5b2-0dcf-418a-9baa-ec27072e4a54",
   "metadata": {},
   "source": [
    "### Graphical Univariate Techniques\n",
    "- **Bar Plots**: bar plots display the **frequency or proportion of each category using vertical bars**, allowing for easy comparison between categories.\n",
    "\t- Mostly used for: numerical/quantitative - discrete variables and categorical/qualitative data.\n",
    "\t\n",
    "- **Pie Charts**: Another graphical representation for categorical data, pie charts display the **proportion or percentage of each category as a slice of a circle**. They help visualize the relative distribution of categories.\n",
    "\t- Mostly used for: numerical/quantitative - discrete variables and categorical/qualitative data."
   ]
  },
  {
   "cell_type": "markdown",
   "id": "e3d5f3e0-5e2f-4989-8987-092be2b0c3cc",
   "metadata": {},
   "source": [
    "We will use bar plots for the categorical variables. "
   ]
  },
  {
   "cell_type": "code",
   "execution_count": 18,
   "id": "476f34f7-48b8-4828-a87d-30796094e98c",
   "metadata": {},
   "outputs": [
    {
     "data": {
      "text/plain": [
       "<Axes: xlabel='Survived', ylabel='count'>"
      ]
     },
     "execution_count": 18,
     "metadata": {},
     "output_type": "execute_result"
    },
    {
     "data": {
      "image/png": "[encoded data removed]",
      "text/plain": [
       "<Figure size 640x480 with 1 Axes>"
      ]
     },
     "metadata": {},
     "output_type": "display_data"
    }
   ],
   "source": [
    "sns.countplot(x='Survived', data=titanic_data)"
   ]
  },
  {
   "cell_type": "code",
   "execution_count": 20,
   "id": "dd359ecd-32a6-4559-b0b4-464970e0cba2",
   "metadata": {},
   "outputs": [
    {
     "data": {
      "text/plain": [
       "<Axes: xlabel='Pclass', ylabel='count'>"
      ]
     },
     "execution_count": 20,
     "metadata": {},
     "output_type": "execute_result"
    },
    {
     "data": {
      "image/png": "[encoded data removed]",
      "text/plain": [
       "<Figure size 640x480 with 1 Axes>"
      ]
     },
     "metadata": {},
     "output_type": "display_data"
    }
   ],
   "source": [
    "sns.countplot(x='Pclass', data=titanic_data)"
   ]
  },
  {
   "cell_type": "code",
   "execution_count": 22,
   "id": "859eb129-958b-430d-8641-6fabe6cf88a1",
   "metadata": {},
   "outputs": [
    {
     "data": {
      "text/plain": [
       "<Axes: xlabel='Sex', ylabel='count'>"
      ]
     },
     "execution_count": 22,
     "metadata": {},
     "output_type": "execute_result"
    },
    {
     "data": {
      "image/png": "[encoded data removed]",
      "text/plain": [
       "<Figure size 640x480 with 1 Axes>"
      ]
     },
     "metadata": {},
     "output_type": "display_data"
    }
   ],
   "source": [
    "sns.countplot(x='Sex', data=titanic_data)"
   ]
  },
  {
   "cell_type": "code",
   "execution_count": 24,
   "id": "5020b182-4a61-4bc6-aae7-5aeec5016c96",
   "metadata": {},
   "outputs": [
    {
     "data": {
      "text/plain": [
       "<Axes: xlabel='Embarked', ylabel='count'>"
      ]
     },
     "execution_count": 24,
     "metadata": {},
     "output_type": "execute_result"
    },
    {
     "data": {
      "image/png": "[encoded data removed]",
      "text/plain": [
       "<Figure size 640x480 with 1 Axes>"
      ]
     },
     "metadata": {},
     "output_type": "display_data"
    }
   ],
   "source": [
    "sns.countplot(x='Embarked', data=titanic_data)"
   ]
  },
  {
   "cell_type": "markdown",
   "id": "c3f27bf0-9e9d-41aa-8597-c14ba82beeb3",
   "metadata": {},
   "source": [
    "From the bar plots of the categorical variables in the Titanic dataset, we can draw the following insights:\n",
    "\n",
    "- Survived: The bar plot shows the number of passengers who survived (1) and who did not survive (0). It indicates that a higher number of passengers did not survive the Titanic disaster compared to those who survived.\n",
    "\n",
    "- Pclass: The bar plot displays the distribution of passengers across the three classes - 1, 2, and 3. It reveals that the majority of passengers were in the third class, followed by the first and second classes.\n",
    "\n",
    "- Sex: The bar plot illustrates the count of male and female passengers. It shows that the number of male passengers was higher than the number of female passengers.\n",
    "\n",
    "- Embarked: The bar plot represents the count of passengers who boarded the Titanic from each port - Southampton (S), Cherbourg (C), and Queenstown (Q). It reveals that the majority of passengers boarded from Southampton, followed by Cherbourg and Queenstown.\n",
    "\n",
    "These insights provide a visual representation of the distribution and composition of the categorical variables in the Titanic dataset, allowing us to understand the characteristics and patterns within the data."
   ]
  },
  {
   "cell_type": "markdown",
   "id": "b2c025ac-d101-4bad-b849-34e10a595b1d",
   "metadata": {},
   "source": [
    "## Additional Analysis"
   ]
  },
  {
   "cell_type": "markdown",
   "id": "ea87a138-2038-46a2-bee7-10821cebef44",
   "metadata": {},
   "source": [
    "You can further explore the dataset by calculating statistics for specific subsets of the data and analyzing correlations between variables.\n",
    "\n",
    "We will look at this during the bootcamp."
   ]
  },
  {
   "cell_type": "markdown",
   "id": "56d288c3-d651-4c55-b77b-4cf818713862",
   "metadata": {},
   "source": [
    "## Exercise"
   ]
  },
  {
   "cell_type": "markdown",
   "id": "9f6b5e69-636a-4d7c-a155-b8cc27c24ec7",
   "metadata": {},
   "source": [
    "Exploring Students' Performance Dataset - Graphical Techniques\n",
    "\n",
    "**Objective**: The objective of this exercise is to practice using **graphical techniques** to analyze the Students' Performance dataset and gain insights into the students' academic performance.\n",
    "\n",
    "**Dataset Description**:\n",
    "The Students' Performance dataset contains information about students' demographic attributes, such as gender, race/ethnicity, parental education, lunch type, and test scores in three subjects: Math, Reading, and Writing.\n",
    "\n",
    "**Exercise Steps**:\n",
    "\n",
    "- Load the Dataset: Import the necessary libraries and load the Students' Performance dataset into a pandas DataFrame. \n",
    "\n",
    "- Explore the Dataset: Use basic pandas functions to get an overview of the dataset, including the number of rows and columns, and number of unique values for each column. For those columns that have less than 10 distinct values, show those unique values. \n",
    "\n",
    "- Visualize Distributions: Create histograms and bar plots to visualize the distributions of the variables. Interpret the shape of the distributions."
   ]
  },
  {
   "cell_type": "code",
   "execution_count": 40,
   "id": "49a5073d-0c04-4519-821a-f60f0ae13457",
   "metadata": {},
   "outputs": [
    {
     "name": "stdout",
     "output_type": "stream",
     "text": [
      "   gender race/ethnicity parental level of education         lunch  \\\n",
      "0  female        group B           bachelor's degree      standard   \n",
      "1  female        group C                some college      standard   \n",
      "2  female        group B             master's degree      standard   \n",
      "3    male        group A          associate's degree  free/reduced   \n",
      "4    male        group C                some college      standard   \n",
      "\n",
      "  test preparation course  math score  reading score  writing score  \n",
      "0                    none          72             72             74  \n",
      "1               completed          69             90             88  \n",
      "2                    none          90             95             93  \n",
      "3                    none          47             57             44  \n",
      "4                    none          76             78             75  \n",
      "       math score  reading score  writing score\n",
      "count  1000.00000    1000.000000    1000.000000\n",
      "mean     66.08900      69.169000      68.054000\n",
      "std      15.16308      14.600192      15.195657\n",
      "min       0.00000      17.000000      10.000000\n",
      "25%      57.00000      59.000000      57.750000\n",
      "50%      66.00000      70.000000      69.000000\n",
      "75%      77.00000      79.000000      79.000000\n",
      "max     100.00000     100.000000     100.000000\n"
     ]
    }
   ],
   "source": [
    "# Dataset source URL\n",
    "url = \"https://raw.githubusercontent.com/data-bootcamp-v4/prework_data/main/students_performance.csv\"\n",
    "\n",
    "student_perf = pd.read_csv(url)\n",
    "\n",
    "print(student_perf.head())\n",
    "print(student_perf.describe())\n",
    "\n"
   ]
  },
  {
   "cell_type": "code",
   "execution_count": 38,
   "id": "87666bfe-aff2-4605-b040-513e749b4c37",
   "metadata": {},
   "outputs": [
    {
     "data": {
      "text/plain": [
       "<Axes: xlabel='math score', ylabel='Count'>"
      ]
     },
     "execution_count": 38,
     "metadata": {},
     "output_type": "execute_result"
    },
    {
     "data": {
      "image/png": "[encoded data removed]",
      "text/plain": [
       "<Figure size 640x480 with 1 Axes>"
      ]
     },
     "metadata": {},
     "output_type": "display_data"
    }
   ],
   "source": [
    "sns.histplot(x='math score', data=student_perf)\n",
    "sns.histplot(x='reading score', data=student_perf)\n",
    "sns.histplot(x='writing score', data=student_perf)"
   ]
  },
  {
   "cell_type": "code",
   "execution_count": 44,
   "id": "1ab7904e-0b35-4bfe-8426-b5d5433e02ad",
   "metadata": {},
   "outputs": [
    {
     "data": {
      "text/plain": [
       "<Axes: xlabel='gender', ylabel='count'>"
      ]
     },
     "execution_count": 44,
     "metadata": {},
     "output_type": "execute_result"
    },
    {
     "data": {
      "image/png": "[encoded data removed]",
      "text/plain": [
       "<Figure size 640x480 with 1 Axes>"
      ]
     },
     "metadata": {},
     "output_type": "display_data"
    }
   ],
   "source": [
    "sns.countplot(x='gender', data=student_perf)\n"
   ]
  },
  {
   "cell_type": "code",
   "execution_count": null,
   "id": "ee10f1e6-9d6b-48d2-bd92-ea6deec39aef",
   "metadata": {},
   "outputs": [],
   "source": []
  }
 ],
 "metadata": {
  "kernelspec": {
   "display_name": "Python 3 (ipykernel)",
   "language": "python",
   "name": "python3"
  },
  "language_info": {
   "codemirror_mode": {
    "name": "ipython",
    "version": 3
   },
   "file_extension": ".py",
   "mimetype": "text/x-python",
   "name": "python",
   "nbconvert_exporter": "python",
   "pygments_lexer": "ipython3",
   "version": "3.12.4"
  }
 },
 "nbformat": 4,
 "nbformat_minor": 5
}
