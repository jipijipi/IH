{
 "cells": [
  {
   "cell_type": "markdown",
   "metadata": {},
   "source": [
    "## What is Pseudo-code?"
   ]
  },
  {
   "cell_type": "markdown",
   "metadata": {},
   "source": [
    "Pseudocode is a way of expressing the logic of an algorithm in plain English or simple statements that resemble programming code. It is not bound by any specific programming language syntax and focuses on the logic and structure of the solution rather than the precise implementation details. Pseudocode helps in planning, designing, and communicating algorithms effectively."
   ]
  },
  {
   "cell_type": "markdown",
   "metadata": {},
   "source": [
    "### Basic Pseudocode Structure\n",
    "\n",
    "Pseudocode follows a structured format that consists of simple statements, control structures, and variables. Here are some basic elements of pseudocode:\n",
    "\n",
    "- Statements: Each line of pseudocode represents a specific action or instruction, written in plain language. For example, \"Print 'Hello, world!'\" or \"Set x to 5.\"\n",
    "\n",
    "- Variables: Variables are used to store and manipulate data in pseudocode. They are usually represented by names and can be assigned values or used in expressions. For example, \"Set x to 5\" or \"total = x + y.\"\n",
    "\n",
    "- Input/Output: Pseudocode often includes instructions for reading input from the user or displaying output. For example, \"Read user input\" or \"Display result.\"\n",
    "\n",
    "- Control Structures: Pseudocode includes control structures like if-else statements, loops, and function definitions. These control structures help in making decisions and repeating actions. For example, \"If x is greater than 10, then do this\" or \"Repeat until condition is true.\""
   ]
  },
  {
   "cell_type": "markdown",
   "metadata": {},
   "source": [
    "### Writing Pseudocode\n",
    "When writing pseudocode, focus on expressing the logic of the algorithm in a clear and understandable manner. Here are some tips to help you get started:\n",
    "- Start with a clear problem statement: Understand the problem you are trying to solve and clearly define the inputs, outputs, and expected behavior.\n",
    "\n",
    "- Break down the problem into smaller steps: Identify the key actions or operations required to solve the problem and outline them step by step.\n",
    "\n",
    "- Use meaningful names: Choose descriptive names for variables and actions to improve readability and understanding.\n",
    "\n",
    "- Keep it simple: Pseudocode should be concise and easy to follow. Avoid unnecessary details and focus on the main steps.\n",
    "\n",
    "- Indentation: Use indentation to represent code blocks within control structures, just like in actual programming languages. This helps visualize the structure and hierarchy of the algorithm.\n",
    "\n",
    "- Test your pseudocode: Before translating pseudocode into actual code, mentally walk through the steps to see if they make sense and cover all necessary operations.\n",
    "\n"
   ]
  },
  {
   "cell_type": "markdown",
   "metadata": {},
   "source": [
    "One way to do it is to write on a piece of paper each step you would like to do **even the most obvious step** and then figure out how to write the corresponding code.\n",
    "\n",
    "- Example 1: For every element in this list I want to compute the square of each element.\n",
    "\n",
    "    Look at the sentence, there are at least two keywords: **FOR -> FOR LOOP**, and **list -> list variable**\n",
    "\n",
    "- Example 2: As long as the runner hasn't reached the finish line keep running.\n",
    "\n",
    "    Look at the sentence, there is a condition here for stop. Therefore you should use a **WHILE LOOP**. To make sure the code will run, you need to use a variable to store the state of the condition at the beginning. In addition, you will need another variable to store the progress of the runner!"
   ]
  },
  {
   "cell_type": "markdown",
   "metadata": {},
   "source": [
    "### Examples"
   ]
  },
  {
   "cell_type": "markdown",
   "metadata": {},
   "source": [
    "1. Write a program that asks the user for a temperature in Fahrenheit and prints out the same temperature in Celsius. "
   ]
  },
  {
   "cell_type": "code",
   "execution_count": null,
   "metadata": {},
   "outputs": [],
   "source": [
    "# This is a sample pseudocode"
   ]
  },
  {
   "cell_type": "raw",
   "metadata": {},
   "source": [
    "1. Display \"Enter the temperature in Fahrenheit:\"\n",
    "2. Read user input and assign it to the variable 'fahrenheit'\n",
    "3. Convert 'fahrenheit' to Celsius using the formula: celsius = (fahrenheit - 32) * 5/9\n",
    "4. Display \"The temperature in Celsius is \" + celsius"
   ]
  },
  {
   "cell_type": "code",
   "execution_count": 2,
   "metadata": {},
   "outputs": [],
   "source": [
    "# Here is the code "
   ]
  },
  {
   "cell_type": "code",
   "execution_count": null,
   "metadata": {},
   "outputs": [],
   "source": [
    "# Use the input function for user input. Note when we use the input function, data type is string by default\n",
    "x=input('Please input a temperature in Fahrenheit. ')  \n",
    "            \n",
    "# We can check the data type for variable x\n",
    "print(\"Data type for variable x is \", type(x)) \n",
    "\n",
    "y=(float(x)-32)*5/9  # Formula to convert degree to fahreheit    \n",
    "\n",
    "print('Your temperature in Celsius is: ', y)"
   ]
  },
  {
   "cell_type": "markdown",
   "metadata": {},
   "source": [
    "2. Write a program that converts from Fahrenheit to Celsius or from Celsius to Fahrenheit, depending on the user's choice."
   ]
  },
  {
   "cell_type": "code",
   "execution_count": null,
   "metadata": {},
   "outputs": [],
   "source": [
    "# This is a possible pseudocode"
   ]
  },
  {
   "cell_type": "raw",
   "metadata": {},
   "source": [
    "1. Display \"Enter 1 to convert from Fahrenheit to Celsius or 2 to convert from Celsius to Fahrenheit:\"\n",
    "2. Read user input and assign it to the variable 'choice'\n",
    "3. If 'choice' is equal to 1, go to step 4. Otherwise, go to step 7.\n",
    "4. Display \"Enter the temperature in Fahrenheit:\"\n",
    "5. Read user input and assign it to the variable 'fahrenheit'\n",
    "6. Convert 'fahrenheit' to Celsius using the formula: celsius = (fahrenheit - 32) * 5/9\n",
    "7. If 'choice' is equal to 2, go to step 8. Otherwise, go to step 11.\n",
    "8. Display \"Enter the temperature in Celsius:\"\n",
    "9. Read user input and assign it to the variable 'celsius'\n",
    "10. Convert 'celsius' to Fahrenheit using the formula: fahrenheit = (celsius * 9/5) + 32\n",
    "11. Display \"The converted temperature is \" + fahrenheit + \" degrees Fahrenheit\" (if 'choice' was 1) or \" degrees Celsius\" (if 'choice' was 2)"
   ]
  },
  {
   "cell_type": "code",
   "execution_count": 6,
   "metadata": {},
   "outputs": [],
   "source": [
    "# Here is the code "
   ]
  },
  {
   "cell_type": "code",
   "execution_count": 8,
   "metadata": {},
   "outputs": [
    {
     "name": "stdin",
     "output_type": "stream",
     "text": [
      "Press 1 to convert from Fahrenheit to Celsius or Press 2 to convert from Celsius to Fahrenheit. 2\n",
      "What is the number you want to convert? 123\n"
     ]
    },
    {
     "name": "stdout",
     "output_type": "stream",
     "text": [
      "253.4\n"
     ]
    }
   ],
   "source": [
    "x = int(input(\"Press 1 to convert from Fahrenheit to Celsius or Press 2 to convert from Celsius to Fahrenheit.\"))\n",
    "y = input(\"What is the number you want to convert?\")\n",
    "z = float(x)\n",
    "\n",
    "if z == 1:\n",
    "    y=(float(y)-32)*5/9\n",
    "    print(y)\n",
    "elif z == 2:\n",
    "    y=float(y)*9/5+32\n",
    "    print(y)\n",
    "else:\n",
    "    print(\"Please enter either 1 or 2\")"
   ]
  },
  {
   "cell_type": "markdown",
   "metadata": {
    "tags": []
   },
   "source": [
    "### Exercise - Writing Pseudocode"
   ]
  },
  {
   "cell_type": "markdown",
   "metadata": {},
   "source": [
    "To make the code more robust and improve the user experience, write pseudocode and code to add the following enhancements to the last example provided:\n",
    "\n",
    "- Implement a validation loop: After prompting the user for input, we can use a loop to keep asking for the value until a valid one is entered. This ensures that the program does not proceed with incorrect inputs. For example, if the user enters \"3\" instead of \"1\" or \"2\", the program will continue to prompt for the correct choice.\n",
    "\n",
    "- Bonus: Add more input validation. If the user enters a non-numerical value, we can display an error message and prompt for input again.\n",
    "\n",
    "    *Hint:*\n",
    "    - *To remove any leading or trailing spaces from the user's input, you can use the `lstrip()` method. This will remove any spaces from the left side of the input string. Example: input_string = input_string.lstrip(). Also, this method takes an optional argument where you can specify the characters you want to remove from the left side of the string. Example: input_string = input_string.lstrip(\"symbol_to_remove\")*\n",
    "\n",
    "    - *To replace a specific character or substring within a string, you can use the `replace()` method. This method takes two arguments: the old substring you want to replace and the new substring you want to replace it with. Example: input_string = input_string.replace(\"old_value\", \"new_value\")*\n",
    "\n",
    "    - *To check if a string consists only of numerical digits, you can use the `isdigit()` method. This method returns True if all the characters in the string are digits, and False otherwise. Example: is_numeric = input_string.isdigit()*"
   ]
  },
  {
   "cell_type": "code",
   "execution_count": null,
   "metadata": {},
   "outputs": [],
   "source": [
    "''' 1. Display \"Enter 1 to convert from Fahrenheit to Celsius or 2 to convert from Celsius to Fahrenheit:\"\n",
    "        1.1. Validate that user input is within the valid choices or go back to step 1\n",
    "    2. Assign input to the variable 'choice'\n",
    "    3. If 'choice' is equal to 1, go to step 4. Otherwise, go to step 7.\n",
    "    4. Display \"Enter the temperature in Fahrenheit:\"\n",
    "    5. Read user input and assign it to the variable 'fahrenheit'\n",
    "    6. Convert 'fahrenheit' to Celsius using the formula: celsius = (fahrenheit - 32) * 5/9\n",
    "    7. If 'choice' is equal to 2, go to step 8. Otherwise, go to step 11.\n",
    "    8. Display \"Enter the temperature in Celsius:\"\n",
    "    9. Read user input and assign it to the variable 'celsius'\n",
    "    10. Convert 'celsius' to Fahrenheit using the formula: fahrenheit = (celsius * 9/5) + 32\n",
    "    11. Display \"The converted temperature is \" + fahrenheit + \" degrees Fahrenheit\" (if 'choice' was 1) or \" degrees Celsius\" (if 'choice' was 2)'''"
   ]
  },
  {
   "cell_type": "code",
   "execution_count": 19,
   "metadata": {},
   "outputs": [
    {
     "name": "stdin",
     "output_type": "stream",
     "text": [
      "Press 1 to convert from Fahrenheit to Celsius or Press 2 to convert from Celsius to Fahrenheit. 3\n"
     ]
    },
    {
     "name": "stdout",
     "output_type": "stream",
     "text": [
      "please enter 1 or 2\n"
     ]
    },
    {
     "name": "stdin",
     "output_type": "stream",
     "text": [
      "Press 1 to convert from Fahrenheit to Celsius or Press 2 to convert from Celsius to Fahrenheit. ze\n"
     ]
    },
    {
     "ename": "ValueError",
     "evalue": "invalid literal for int() with base 10: 'ze'",
     "output_type": "error",
     "traceback": [
      "\u001b[0;31m---------------------------------------------------------------------------\u001b[0m",
      "\u001b[0;31mValueError\u001b[0m                                Traceback (most recent call last)",
      "Cell \u001b[0;32mIn[19], line 7\u001b[0m\n\u001b[1;32m      5\u001b[0m \u001b[38;5;28;01mwhile\u001b[39;00m x \u001b[38;5;129;01mnot\u001b[39;00m \u001b[38;5;129;01min\u001b[39;00m valid_choices:\n\u001b[1;32m      6\u001b[0m     \u001b[38;5;28mprint\u001b[39m(\u001b[38;5;124m'\u001b[39m\u001b[38;5;124mplease enter 1 or 2\u001b[39m\u001b[38;5;124m'\u001b[39m)\n\u001b[0;32m----> 7\u001b[0m     x \u001b[38;5;241m=\u001b[39m \u001b[38;5;28mint\u001b[39m(\u001b[38;5;28minput\u001b[39m(\u001b[38;5;124m\"\u001b[39m\u001b[38;5;124mPress 1 to convert from Fahrenheit to Celsius or Press 2 to convert from Celsius to Fahrenheit.\u001b[39m\u001b[38;5;124m\"\u001b[39m))\n\u001b[1;32m      9\u001b[0m y \u001b[38;5;241m=\u001b[39m \u001b[38;5;28minput\u001b[39m(\u001b[38;5;124m\"\u001b[39m\u001b[38;5;124mWhat is the number you want to convert?\u001b[39m\u001b[38;5;124m\"\u001b[39m)\n\u001b[1;32m     10\u001b[0m z \u001b[38;5;241m=\u001b[39m \u001b[38;5;28mfloat\u001b[39m(x)\n",
      "\u001b[0;31mValueError\u001b[0m: invalid literal for int() with base 10: 'ze'"
     ]
    }
   ],
   "source": [
    "x = int(input(\"Press 1 to convert from Fahrenheit to Celsius or Press 2 to convert from Celsius to Fahrenheit.\"))\n",
    "\n",
    "valid_choices = [1,2]\n",
    "\n",
    "while x not in valid_choices:\n",
    "    print('please enter 1 or 2')\n",
    "    x = int(input(\"Press 1 to convert from Fahrenheit to Celsius or Press 2 to convert from Celsius to Fahrenheit.\"))\n",
    "\n",
    "y = input(\"What is the number you want to convert?\")\n",
    "z = float(x)\n",
    "\n",
    "if z == 1:\n",
    "    y=(float(y)-32)*5/9\n",
    "    print(y)\n",
    "elif z == 2:\n",
    "    y=float(y)*9/5+32\n",
    "    print(y)\n",
    "else:\n",
    "    print(\"Please enter either 1 or 2\")"
   ]
  },
  {
   "cell_type": "code",
   "execution_count": null,
   "metadata": {},
   "outputs": [],
   "source": []
  }
 ],
 "metadata": {
  "kernelspec": {
   "display_name": "Python 3 (ipykernel)",
   "language": "python",
   "name": "python3"
  },
  "language_info": {
   "codemirror_mode": {
    "name": "ipython",
    "version": 3
   },
   "file_extension": ".py",
   "mimetype": "text/x-python",
   "name": "python",
   "nbconvert_exporter": "python",
   "pygments_lexer": "ipython3",
   "version": "3.12.4"
  }
 },
 "nbformat": 4,
 "nbformat_minor": 4
}
