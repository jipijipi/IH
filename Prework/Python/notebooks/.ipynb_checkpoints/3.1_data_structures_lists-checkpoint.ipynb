{
 "cells": [
  {
   "cell_type": "markdown",
   "metadata": {
    "tags": []
   },
   "source": [
    "## Data structures    "
   ]
  },
  {
   "cell_type": "markdown",
   "metadata": {},
   "source": [
    "Data structures are fundamental components in programming that allow you to efficiently **store, organize, and manipulate** data. They provide a way to manage and **work with collections of values** or entities. In Python, there are several commonly used data structures:"
   ]
  },
  {
   "cell_type": "markdown",
   "metadata": {},
   "source": [
    "Data structures can be broadly classified into two categories: mutable and immutable.\n",
    "\n",
    "- **Mutable Data Structures**: Mutable data structures, as the name implies, can be modified or changed after they have been defined. This means you can add, remove, or modify elements within these structures. Examples of mutable data structures in Python include lists and dictionaries. For example, you can add or remove items from a list, or update the values associated with keys in a dictionary.\n",
    "\n",
    "- **Immutable Data Structures**: In contrast, immutable data structures cannot be changed once they have been defined. This means that once you create an immutable data structure, its elements remain fixed and cannot be modified. Examples of immutable data structures in Python include strings and tuples. For instance, you cannot change a character in a string or modify an element in a tuple once they are created."
   ]
  },
  {
   "cell_type": "markdown",
   "metadata": {},
   "source": [
    "In this and the following lesson, we will talk about the following data structures:  \n",
    "- **Lists**: Lists are ordered collections of items enclosed in square brackets [ ]. They can store elements of different data types and allow for indexing, appending, removing, and modifying elements. (MUTABLE)     \n",
    "- **Dictionaries**: Dictionaries are key-value pairs enclosed in curly braces { }. Each element in a dictionary consists of a key and its associated value. Dictionaries provide fast lookup and retrieval of values based on their keys and are useful for organizing and accessing data using meaningful labels. (MUTABLE)  \n",
    "       \n",
    "There are a couple of data structures that we will cover later in the bootcamp. Although we won't dive into them in detail just yet, here's a brief definition of these data structures to give you an overview:\n",
    "   \n",
    "- **Sets**: Sets are unordered collections of unique elements enclosed in curly braces { }. They do not allow duplicate values and provide operations like union, intersection, and difference. Sets are useful for membership testing and eliminating duplicates from a sequence.(MUTABLE)   \n",
    "- **Tuples**: Tuples are similar to lists but are immutable, meaning their elements cannot be modified once created. They are enclosed in parentheses ( ) and commonly used to represent fixed collections of related values. (IMMUTABLE)"
   ]
  },
  {
   "cell_type": "markdown",
   "metadata": {},
   "source": [
    "## Data Types vs Data Structures"
   ]
  },
  {
   "cell_type": "markdown",
   "metadata": {},
   "source": [
    "Data types define the nature of individual values and determine the operations you can perform on them, while data structures provide containers or organizational mechanisms to store and work with collections of data. Data structures utilize different data types to hold and manage data efficiently."
   ]
  },
  {
   "cell_type": "markdown",
   "metadata": {},
   "source": [
    "An analogy to understand the difference between data types and data structures is to compare them to atoms and molecules. In this analogy, a data type can be seen as an atom, which is the basic building block of matter. It represents a single unit of data, such as an integer or a string.\n",
    "\n",
    "On the other hand, data structures can be likened to molecules. They are formed by combining multiple atoms (data types) together in a specific arrangement to create a more complex and meaningful structure. "
   ]
  },
  {
   "cell_type": "markdown",
   "metadata": {},
   "source": [
    "## Lists"
   ]
  },
  {
   "cell_type": "markdown",
   "metadata": {},
   "source": [
    "A list is a versatile and commonly used data structure that allows you to store and manipulate collections of elements. It is a **mutable**, **ordered** sequence that can hold items of different data types, such as integers, strings, or even other lists. Lists are enclosed in square brackets [] and elements within the list are separated by commas."
   ]
  },
  {
   "cell_type": "markdown",
   "metadata": {},
   "source": [
    "### Creating a list"
   ]
  },
  {
   "cell_type": "markdown",
   "metadata": {},
   "source": [
    "To create a list, you can simply assign a sequence of elements to a variable using the square brackets notation."
   ]
  },
  {
   "cell_type": "code",
   "execution_count": 2,
   "metadata": {},
   "outputs": [],
   "source": [
    "fruits = [\"apple\", \"banana\", \"orange\"]"
   ]
  },
  {
   "cell_type": "code",
   "execution_count": 4,
   "metadata": {},
   "outputs": [
    {
     "data": {
      "text/plain": [
       "['apple', 'banana', 'orange']"
      ]
     },
     "execution_count": 4,
     "metadata": {},
     "output_type": "execute_result"
    }
   ],
   "source": [
    "fruits"
   ]
  },
  {
   "cell_type": "markdown",
   "metadata": {},
   "source": [
    "To create an empty list, you can simply assign square brackets."
   ]
  },
  {
   "cell_type": "code",
   "execution_count": 6,
   "metadata": {},
   "outputs": [],
   "source": [
    "vegetables = []"
   ]
  },
  {
   "cell_type": "code",
   "execution_count": 8,
   "metadata": {},
   "outputs": [
    {
     "data": {
      "text/plain": [
       "[]"
      ]
     },
     "execution_count": 8,
     "metadata": {},
     "output_type": "execute_result"
    }
   ],
   "source": [
    "vegetables"
   ]
  },
  {
   "cell_type": "code",
   "execution_count": 10,
   "metadata": {},
   "outputs": [
    {
     "data": {
      "text/plain": [
       "list"
      ]
     },
     "execution_count": 10,
     "metadata": {},
     "output_type": "execute_result"
    }
   ],
   "source": [
    "# To check the type of this variable we can use type() function\n",
    "type(fruits)"
   ]
  },
  {
   "cell_type": "code",
   "execution_count": 12,
   "metadata": {},
   "outputs": [],
   "source": [
    "# Lists can hold elements of different type\n",
    "example1 = [1, 2, 3, 4] # Just integers\n",
    "example2 = ['a', 'b', 'c'] # Just characters (strings)\n",
    "example3 = [1 , 'a', True] # Integer, string and boolean"
   ]
  },
  {
   "cell_type": "code",
   "execution_count": 14,
   "metadata": {},
   "outputs": [
    {
     "name": "stdout",
     "output_type": "stream",
     "text": [
      "<class 'list'>\n",
      "<class 'list'>\n",
      "<class 'list'>\n"
     ]
    }
   ],
   "source": [
    "print(type(example1)) #It has integers, but type is list\n",
    "print(type(example2)) #It has strings, but type is list\n",
    "print(type(example3)) #It has many types, but type is list"
   ]
  },
  {
   "cell_type": "markdown",
   "metadata": {},
   "source": [
    "### Indexing and accesing elements"
   ]
  },
  {
   "cell_type": "markdown",
   "metadata": {},
   "source": [
    "In Python, indexing allows you to access individual elements within a list (and any other ordered structure, such as strings and tuples). \n",
    "\n",
    "Each element in a list has a unique index value that represents its position within the list. The index starts from 0 for the first element and increments by 1 for each subsequent element.\n",
    "\n",
    "Syntax: \n",
    "```python\n",
    "list_name[index]\n",
    "```\n"
   ]
  },
  {
   "cell_type": "markdown",
   "metadata": {},
   "source": [
    "<img src=\"https://education-team-2020.s3-eu-west-1.amazonaws.com/data-analytics/prework/unit1/zero_based_indexing_python.png\" width=400 height=400>"
   ]
  },
  {
   "cell_type": "markdown",
   "metadata": {},
   "source": [
    "Index values can also be negative, indicating positions from the end of the list. In this case, -1 refers to the last element, -2 refers to the second last element, and so on."
   ]
  },
  {
   "cell_type": "markdown",
   "metadata": {},
   "source": [
    "You can access individual elements of a list using their index values. "
   ]
  },
  {
   "cell_type": "code",
   "execution_count": 16,
   "metadata": {},
   "outputs": [],
   "source": [
    "x = [\"M\",\"o\",\"n\",\"t\",\"y\",\" \",\"P\",\"y\",\"t\",\"h\",\"o\",\"n\"] # We define a list of strings"
   ]
  },
  {
   "cell_type": "code",
   "execution_count": 18,
   "metadata": {},
   "outputs": [
    {
     "data": {
      "text/plain": [
       "'M'"
      ]
     },
     "execution_count": 18,
     "metadata": {},
     "output_type": "execute_result"
    }
   ],
   "source": [
    "x[0] #Note that the index starts in 0"
   ]
  },
  {
   "cell_type": "code",
   "execution_count": 20,
   "metadata": {},
   "outputs": [
    {
     "data": {
      "text/plain": [
       "'o'"
      ]
     },
     "execution_count": 20,
     "metadata": {},
     "output_type": "execute_result"
    }
   ],
   "source": [
    "x[1]"
   ]
  },
  {
   "cell_type": "code",
   "execution_count": 22,
   "metadata": {},
   "outputs": [
    {
     "name": "stdout",
     "output_type": "stream",
     "text": [
      "M o n t y   P y t h o n\n"
     ]
    }
   ],
   "source": [
    "print(x[0], x[1], x[2], x[3], x[4], x[5], x[6], x[7], x[8], x[9], x[10], x[11])"
   ]
  },
  {
   "cell_type": "markdown",
   "metadata": {},
   "source": [
    "While the overall data structure is a list, the type of each individual element corresponds to the data type assigned to that element."
   ]
  },
  {
   "cell_type": "code",
   "execution_count": 25,
   "metadata": {},
   "outputs": [
    {
     "name": "stdout",
     "output_type": "stream",
     "text": [
      "<class 'list'>\n",
      "<class 'str'>\n"
     ]
    }
   ],
   "source": [
    "print(type(x))\n",
    "print(type(x[0]))"
   ]
  },
  {
   "cell_type": "markdown",
   "metadata": {},
   "source": [
    "### Modifying List Elements\n",
    "\n",
    "Lists are mutable, meaning you can modify their elements after creation. You can assign new values to specific elements using their index."
   ]
  },
  {
   "cell_type": "code",
   "execution_count": 28,
   "metadata": {},
   "outputs": [
    {
     "name": "stdout",
     "output_type": "stream",
     "text": [
      "['apple', 'grape', 'orange']\n"
     ]
    }
   ],
   "source": [
    "fruits[1] = \"grape\"\n",
    "print(fruits)  # Output: [\"apple\", \"grape\", \"orange\"]"
   ]
  },
  {
   "cell_type": "markdown",
   "metadata": {},
   "source": [
    "### List Operators\n",
    "\n",
    "Lists support various operations, such as concatenation (+) to combine two lists or repetition (*) to repeat a list."
   ]
  },
  {
   "cell_type": "code",
   "execution_count": 31,
   "metadata": {},
   "outputs": [
    {
     "name": "stdout",
     "output_type": "stream",
     "text": [
      "['apple', 'grape', 'orange', 1, 2, 3]\n",
      "['apple', 'grape', 'orange', 'apple', 'grape', 'orange', 'apple', 'grape', 'orange']\n"
     ]
    }
   ],
   "source": [
    "numbers = [1, 2, 3]\n",
    "combined = fruits + numbers\n",
    "print(combined)  # Output: [\"apple\", \"grape\", \"orange\", 1, 2, 3]\n",
    "\n",
    "repeated = fruits * 3\n",
    "print(repeated)  # Output: [\"apple\", \"grape\", \"orange\", \"apple\", \"grape\", \"orange\", \"apple\", \"grape\", \"orange\"]"
   ]
  },
  {
   "cell_type": "markdown",
   "metadata": {},
   "source": [
    "### List Methods and Functions"
   ]
  },
  {
   "cell_type": "markdown",
   "metadata": {},
   "source": [
    "A pre-defined function in python that can be used on lists is `len()` which returns the length of the list."
   ]
  },
  {
   "cell_type": "code",
   "execution_count": 45,
   "metadata": {},
   "outputs": [
    {
     "data": {
      "text/plain": [
       "['apple',\n",
       " 'grape',\n",
       " 'orange',\n",
       " 'ananas',\n",
       " 'a',\n",
       " 'n',\n",
       " 'a',\n",
       " 'ananas',\n",
       " 'a',\n",
       " 'n',\n",
       " 'a',\n",
       " 'ananas',\n",
       " 'a',\n",
       " 'n',\n",
       " 'a',\n",
       " 'a',\n",
       " 'n',\n",
       " 'a',\n",
       " 'ananas']"
      ]
     },
     "execution_count": 45,
     "metadata": {},
     "output_type": "execute_result"
    }
   ],
   "source": [
    "# Lets add one more fruit to the list fruits\n",
    "fruits += \"ana\"\n",
    "\n",
    "fruits = fruits+[\"ananas\"] # Remember, since fruits is a list, we need to append another list\n",
    "fruits"
   ]
  },
  {
   "cell_type": "markdown",
   "metadata": {},
   "source": [
    "Note: we need to append another list `fruits+[\"ananas\"]`, we cannot append just the string `\"ananas\"`. \n",
    "Try yourself to do so, read the error, and try to understand why."
   ]
  },
  {
   "cell_type": "code",
   "execution_count": 48,
   "metadata": {},
   "outputs": [
    {
     "data": {
      "text/plain": [
       "19"
      ]
     },
     "execution_count": 48,
     "metadata": {},
     "output_type": "execute_result"
    }
   ],
   "source": [
    "# Len gives the number of elements in the list. So we should get 4, since we have 4 elements\n",
    "len(fruits) "
   ]
  },
  {
   "cell_type": "markdown",
   "metadata": {},
   "source": [
    "**Note:**\n",
    "Since python has zero based indexing, the last element in the list has an index of 'length-1'"
   ]
  },
  {
   "cell_type": "code",
   "execution_count": 51,
   "metadata": {},
   "outputs": [
    {
     "data": {
      "text/plain": [
       "'ananas'"
      ]
     },
     "execution_count": 51,
     "metadata": {},
     "output_type": "execute_result"
    }
   ],
   "source": [
    "fruits[3] # The last element of the list is in position 3 (we have 4 elements but we starting count at 0)"
   ]
  },
  {
   "cell_type": "code",
   "execution_count": 53,
   "metadata": {},
   "outputs": [
    {
     "data": {
      "text/plain": [
       "18"
      ]
     },
     "execution_count": 53,
     "metadata": {},
     "output_type": "execute_result"
    }
   ],
   "source": [
    "len(fruits)- 1 # So we can also get the index of the last element by doing length -1 (4-1=3)"
   ]
  },
  {
   "cell_type": "code",
   "execution_count": 55,
   "metadata": {},
   "outputs": [
    {
     "data": {
      "text/plain": [
       "'ananas'"
      ]
     },
     "execution_count": 55,
     "metadata": {},
     "output_type": "execute_result"
    }
   ],
   "source": [
    "# A better way to get the last element would be through length - 1\n",
    "fruits[len(fruits)- 1]"
   ]
  },
  {
   "cell_type": "markdown",
   "metadata": {},
   "source": [
    "Python provides built-in methods to perform common operations on lists. "
   ]
  },
  {
   "cell_type": "markdown",
   "metadata": {},
   "source": [
    "Some commonly used methods include **append(), insert(), remove(), and sort().**"
   ]
  },
  {
   "cell_type": "code",
   "execution_count": 59,
   "metadata": {},
   "outputs": [
    {
     "name": "stdout",
     "output_type": "stream",
     "text": [
      "['a', 'a', 'a', 'a', 'a', 'a', 'a', 'a', 'ananas', 'ananas', 'ananas', 'ananas', 'grape', 'kiwi', 'mango', 'n', 'n', 'n', 'n', 'orange']\n"
     ]
    }
   ],
   "source": [
    "fruits.append(\"kiwi\")  # Adds \"kiwi\" to the end of the list\n",
    "fruits.insert(1, \"mango\")  # Inserts \"mango\" at index 1\n",
    "fruits.remove(\"apple\")  # Removes \"apple\" from the list\n",
    "fruits.sort()  # Sorts the list in ascending order\n",
    "\n",
    "print(fruits)  # Output: [\"grape\", \"kiwi\", \"mango\", \"orange\"]"
   ]
  },
  {
   "cell_type": "code",
   "execution_count": 61,
   "metadata": {},
   "outputs": [
    {
     "data": {
      "text/plain": [
       "14"
      ]
     },
     "execution_count": 61,
     "metadata": {},
     "output_type": "execute_result"
    }
   ],
   "source": [
    "fruits.index(\"mango\") # Return first index of value given between ()"
   ]
  },
  {
   "cell_type": "markdown",
   "metadata": {},
   "source": [
    "💡 Check for understanding\n",
    "\n",
    "Look at the error we get if we execute the following line again. Why do you think it is?"
   ]
  },
  {
   "cell_type": "code",
   "execution_count": 64,
   "metadata": {},
   "outputs": [
    {
     "ename": "ValueError",
     "evalue": "list.remove(x): x not in list",
     "output_type": "error",
     "traceback": [
      "\u001b[0;31m---------------------------------------------------------------------------\u001b[0m",
      "\u001b[0;31mValueError\u001b[0m                                Traceback (most recent call last)",
      "Cell \u001b[0;32mIn[64], line 1\u001b[0m\n\u001b[0;32m----> 1\u001b[0m fruits\u001b[38;5;241m.\u001b[39mremove(\u001b[38;5;124m\"\u001b[39m\u001b[38;5;124mapple\u001b[39m\u001b[38;5;124m\"\u001b[39m)\n",
      "\u001b[0;31mValueError\u001b[0m: list.remove(x): x not in list"
     ]
    }
   ],
   "source": [
    "fruits.remove(\"apple\")  # Removes \"apple\" from the list"
   ]
  },
  {
   "cell_type": "markdown",
   "metadata": {},
   "source": [
    "Note: You may have noticed that we talk about *functions* and *methods*. \n",
    "\n",
    "During the bootcamp, we will delve deeper into the distinction between functions and methods. \n",
    "\n",
    "However, for now, you can observe a simple way to differentiate them. Functions, like `len()`, are invoked independently and do not require anything before them. On the other hand, methods, such as `append()`, are associated with a specific variable or object, denoted by the object preceding the method. \n",
    "\n",
    "For instance, we use `len(x)` to call the function, but we employ `x.append(\"hi\")` to invoke the method, where x represents the variable or object."
   ]
  },
  {
   "cell_type": "markdown",
   "metadata": {},
   "source": [
    "### Slicing"
   ]
  },
  {
   "cell_type": "markdown",
   "metadata": {},
   "source": [
    "In *Indexing and accesing elements* we saw that we can access elements from a list, individually, by doing:\n",
    "```python\n",
    "my_list[index]\n",
    "```\n",
    "\n",
    "When we want to access more than one element in the list, we use what is called *slicing*."
   ]
  },
  {
   "cell_type": "markdown",
   "metadata": {},
   "source": [
    "Slicing is a powerful technique in Python that allows you to extract a portion of a sequence, such as a string, list, or tuple, by specifying a range of indices."
   ]
  },
  {
   "cell_type": "markdown",
   "metadata": {},
   "source": [
    "Note: A negative index can be used to count from the end of the sequence. -1 refers to the last element, -2 refers to the second last, and so on."
   ]
  },
  {
   "cell_type": "markdown",
   "metadata": {},
   "source": [
    "When using slicing in Python, the simplified syntax is `sequence[start:end]`, where `start` represents the index of the first element to include in the slice, and `end` represents the index of the first element to exclude from the slice.\n",
    "\n",
    "There are also special cases to consider when using slicing:\n",
    "\n",
    "- `x[:]`: This returns everything in the list, as it includes all elements from the start to the end.\n",
    "\n",
    "- `x[:stop]`: If you omit start, the slice will start from the beginning of the sequence (index 0). This returns items from the beginning of the list up to, but not including, the element at the index specified by stop.\n",
    "\n",
    "- `x[start:]`: If you omit end, the slice will include elements until the end of the sequence. This returns items from the index specified by start until the end of the list, including the element at the start index.\n",
    "\n"
   ]
  },
  {
   "cell_type": "code",
   "execution_count": 66,
   "metadata": {},
   "outputs": [],
   "source": [
    "x = ['a', 'b', 'c', 'd', 'e', 'f', 'g']  "
   ]
  },
  {
   "cell_type": "code",
   "execution_count": 68,
   "metadata": {},
   "outputs": [
    {
     "data": {
      "text/plain": [
       "['a', 'b', 'c', 'd', 'e', 'f', 'g']"
      ]
     },
     "execution_count": 68,
     "metadata": {},
     "output_type": "execute_result"
    }
   ],
   "source": [
    "x[:] # Returns the whole list"
   ]
  },
  {
   "cell_type": "code",
   "execution_count": 70,
   "metadata": {},
   "outputs": [
    {
     "data": {
      "text/plain": [
       "['a', 'b', 'c']"
      ]
     },
     "execution_count": 70,
     "metadata": {},
     "output_type": "execute_result"
    }
   ],
   "source": [
    "x[:3] # Returns a new list which includes elements at indices 0,1,2"
   ]
  },
  {
   "cell_type": "code",
   "execution_count": 72,
   "metadata": {},
   "outputs": [
    {
     "data": {
      "text/plain": [
       "['d', 'e', 'f', 'g']"
      ]
     },
     "execution_count": 72,
     "metadata": {},
     "output_type": "execute_result"
    }
   ],
   "source": [
    "x[3:] # Returns a new list which includes elements at indices 3,4,5,6"
   ]
  },
  {
   "cell_type": "code",
   "execution_count": 74,
   "metadata": {},
   "outputs": [
    {
     "data": {
      "text/plain": [
       "['d', 'e']"
      ]
     },
     "execution_count": 74,
     "metadata": {},
     "output_type": "execute_result"
    }
   ],
   "source": [
    "x[3:5] # Returns a new list which includes elements at indices 3,4"
   ]
  },
  {
   "cell_type": "markdown",
   "metadata": {},
   "source": [
    "There is one more optional parameter in slicing, that is step:\n",
    "`sequence[start:end:step]`\n",
    "\n",
    "- step (optional) represents the increment between elements in the slice. By default, the step value is 1, meaning that consecutive elements are included in the slice. However, you can customize this behavior by providing a different value for the step.\n",
    "\n",
    "Positive step value: When the step value is a positive number greater than 1, the slice skips elements based on the step value. \n",
    "\n"
   ]
  },
  {
   "cell_type": "code",
   "execution_count": 77,
   "metadata": {},
   "outputs": [
    {
     "data": {
      "text/plain": [
       "['a', 'c', 'e', 'g']"
      ]
     },
     "execution_count": 77,
     "metadata": {},
     "output_type": "execute_result"
    }
   ],
   "source": [
    "x[::2] # Returns a new list which includes every second element starting from index 0."
   ]
  },
  {
   "cell_type": "code",
   "execution_count": 79,
   "metadata": {},
   "outputs": [
    {
     "data": {
      "text/plain": [
       "['b', 'e']"
      ]
     },
     "execution_count": 79,
     "metadata": {},
     "output_type": "execute_result"
    }
   ],
   "source": [
    "x[1::3] # Returns a new list, which starts at index 1, and includes elements with a step of 3, i.e. at indices 1, 4 "
   ]
  },
  {
   "cell_type": "code",
   "execution_count": 81,
   "metadata": {},
   "outputs": [
    {
     "data": {
      "text/plain": [
       "['c', 'e']"
      ]
     },
     "execution_count": 81,
     "metadata": {},
     "output_type": "execute_result"
    }
   ],
   "source": [
    "x[2:5:2] # Returns a new list, which includes elements at indices 2, 4 with a step of 2."
   ]
  },
  {
   "cell_type": "markdown",
   "metadata": {},
   "source": [
    "### Exercises "
   ]
  },
  {
   "cell_type": "markdown",
   "metadata": {},
   "source": [
    "1. Given the list:\n",
    "    lst = [1, 2, 34, 5, 3, 12, 9, 8, 67, 89, 98, 90, 39, 21, 45, 46, 23, 13]\n",
    "    \n",
    "Answer the following questions:\n",
    "    \n",
    "- How many elements are in the list?\n",
    "- Using indexes, find out which is the first element in the list?\n",
    "- Using indexes, find out which is the last element in the list?\n",
    "- What is the index of element `90` in the list? \n",
    "- Which are the first 8 elements in the list?\n",
    "- Append elements 100 and 110 to the list.\n",
    "- Sort the elements in the list. "
   ]
  },
  {
   "cell_type": "code",
   "execution_count": 89,
   "metadata": {},
   "outputs": [
    {
     "name": "stdout",
     "output_type": "stream",
     "text": [
      "18\n",
      "1\n",
      "13\n",
      "11\n",
      "[1, 2, 34, 5, 3, 12, 9, 8]\n",
      "[1, 2, 3, 5, 8, 9, 12, 13, 21, 23, 34, 39, 45, 46, 67, 89, 90, 98, 100, 110]\n"
     ]
    }
   ],
   "source": [
    "lst = [1, 2, 34, 5, 3, 12, 9, 8, 67, 89, 98, 90, 39, 21, 45, 46, 23, 13]\n",
    "\n",
    "print(len(lst))\n",
    "print(lst[0])\n",
    "print(lst[len(lst)-1])\n",
    "print(lst.index(90))\n",
    "print(lst[:8])\n",
    "lst += [100,110]\n",
    "lst.sort()\n",
    "print(lst)"
   ]
  },
  {
   "cell_type": "markdown",
   "metadata": {},
   "source": [
    "2. Write a program that searches for a specific element in a given list and returns its index. If the element is not found, print a message indicating that it is not present in the list."
   ]
  },
  {
   "cell_type": "code",
   "execution_count": 119,
   "metadata": {
    "tags": []
   },
   "outputs": [
    {
     "name": "stdout",
     "output_type": "stream",
     "text": [
      "not found\n"
     ]
    }
   ],
   "source": [
    "names = [\"Alice\", \"Bob\", \"Charlie\", \"Dave\"] \n",
    "search_name = \"Bb\" # Element to search in \"names\" list\n",
    "\n",
    "if search_name in names:\n",
    "    print(names.index(search_name))\n",
    "else:\n",
    "    print('not found')"
   ]
  },
  {
   "cell_type": "markdown",
   "metadata": {},
   "source": [
    "3. Write a program that calculates the average of the elements in a given list. The list can contain both positive and negative numbers.\n",
    "\n",
    "*Hint: you can either look for a Python function that calculates the average or look for a Python function that sums all elements in a list and divide by the length of the list.*"
   ]
  },
  {
   "cell_type": "code",
   "execution_count": 123,
   "metadata": {},
   "outputs": [
    {
     "name": "stdout",
     "output_type": "stream",
     "text": [
      "6.0\n"
     ]
    }
   ],
   "source": [
    "numbers = [2, 4, 6, 8, 10]\n",
    "sum = sum(numbers)\n",
    "print(sum/(len(numbers)))"
   ]
  },
  {
   "cell_type": "code",
   "execution_count": null,
   "metadata": {},
   "outputs": [],
   "source": []
  }
 ],
 "metadata": {
  "kernelspec": {
   "display_name": "Python 3 (ipykernel)",
   "language": "python",
   "name": "python3"
  },
  "language_info": {
   "codemirror_mode": {
    "name": "ipython",
    "version": 3
   },
   "file_extension": ".py",
   "mimetype": "text/x-python",
   "name": "python",
   "nbconvert_exporter": "python",
   "pygments_lexer": "ipython3",
   "version": "3.12.4"
  }
 },
 "nbformat": 4,
 "nbformat_minor": 4
}
